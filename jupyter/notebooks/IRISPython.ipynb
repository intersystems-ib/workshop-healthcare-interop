{
 "cells": [
  {
   "cell_type": "markdown",
   "id": "89bf26f7-6f65-43a2-8164-c8d8c466f947",
   "metadata": {},
   "source": [
    "# Init connection"
   ]
  },
  {
   "cell_type": "code",
   "execution_count": 1,
   "id": "06948460-03aa-4020-833b-d4961131173a",
   "metadata": {
    "tags": []
   },
   "outputs": [],
   "source": [
    "import iris, irisnative\n",
    "import time, json\n",
    "import pandas as pd\n",
    "import numpy as np\n",
    "import matplotlib.pyplot as plt\n",
    "\n",
    "import warnings\n",
    "warnings.simplefilter(\"ignore\")\n",
    "\n",
    "connection = iris.connect(\"iris:1972/FHIRREPO\", \"superuser\", \"SYS\")\n",
    "irispy = irisnative.createIris(connection)"
   ]
  },
  {
   "cell_type": "markdown",
   "id": "22212cf8-c06c-49f6-8211-d69cd2e997e0",
   "metadata": {
    "tags": []
   },
   "source": [
    "# Run SQL queries\n",
    "\n",
    "```sql\n",
    "SELECT * FROM demo.Observation\n",
    "```"
   ]
  },
  {
   "cell_type": "code",
   "execution_count": 2,
   "id": "e02dd085-0a02-4588-89f0-a859f98ca125",
   "metadata": {
    "tags": []
   },
   "outputs": [
    {
     "data": {
      "text/html": [
       "<div>\n",
       "<style scoped>\n",
       "    .dataframe tbody tr th:only-of-type {\n",
       "        vertical-align: middle;\n",
       "    }\n",
       "\n",
       "    .dataframe tbody tr th {\n",
       "        vertical-align: top;\n",
       "    }\n",
       "\n",
       "    .dataframe thead th {\n",
       "        text-align: right;\n",
       "    }\n",
       "</style>\n",
       "<table border=\"1\" class=\"dataframe\">\n",
       "  <thead>\n",
       "    <tr style=\"text-align: right;\">\n",
       "      <th></th>\n",
       "      <th>ID</th>\n",
       "      <th>CodeCodingCode</th>\n",
       "      <th>CodeCodingDisplay</th>\n",
       "      <th>Key</th>\n",
       "      <th>ValueQuantityValue</th>\n",
       "    </tr>\n",
       "  </thead>\n",
       "  <tbody>\n",
       "    <tr>\n",
       "      <th>0</th>\n",
       "      <td>23</td>\n",
       "      <td>8302-2</td>\n",
       "      <td>Body Height</td>\n",
       "      <td>Observation/23</td>\n",
       "      <td>154.20</td>\n",
       "    </tr>\n",
       "    <tr>\n",
       "      <th>1</th>\n",
       "      <td>24</td>\n",
       "      <td>72514-3</td>\n",
       "      <td>Pain severity - 0-10 verbal numeric rating [Sc...</td>\n",
       "      <td>Observation/24</td>\n",
       "      <td>3.00</td>\n",
       "    </tr>\n",
       "    <tr>\n",
       "      <th>2</th>\n",
       "      <td>25</td>\n",
       "      <td>29463-7</td>\n",
       "      <td>Body Weight</td>\n",
       "      <td>Observation/25</td>\n",
       "      <td>66.00</td>\n",
       "    </tr>\n",
       "    <tr>\n",
       "      <th>3</th>\n",
       "      <td>26</td>\n",
       "      <td>39156-5</td>\n",
       "      <td>Body Mass Index</td>\n",
       "      <td>Observation/26</td>\n",
       "      <td>27.76</td>\n",
       "    </tr>\n",
       "    <tr>\n",
       "      <th>4</th>\n",
       "      <td>27</td>\n",
       "      <td>85354-9</td>\n",
       "      <td>Blood Pressure</td>\n",
       "      <td>Observation/27</td>\n",
       "      <td>NaN</td>\n",
       "    </tr>\n",
       "    <tr>\n",
       "      <th>...</th>\n",
       "      <td>...</td>\n",
       "      <td>...</td>\n",
       "      <td>...</td>\n",
       "      <td>...</td>\n",
       "      <td>...</td>\n",
       "    </tr>\n",
       "    <tr>\n",
       "      <th>2577</th>\n",
       "      <td>5155</td>\n",
       "      <td>39156-5</td>\n",
       "      <td>Body Mass Index</td>\n",
       "      <td>Observation/5155</td>\n",
       "      <td>27.68</td>\n",
       "    </tr>\n",
       "    <tr>\n",
       "      <th>2578</th>\n",
       "      <td>5156</td>\n",
       "      <td>85354-9</td>\n",
       "      <td>Blood Pressure</td>\n",
       "      <td>Observation/5156</td>\n",
       "      <td>NaN</td>\n",
       "    </tr>\n",
       "    <tr>\n",
       "      <th>2579</th>\n",
       "      <td>5157</td>\n",
       "      <td>8867-4</td>\n",
       "      <td>Heart rate</td>\n",
       "      <td>Observation/5157</td>\n",
       "      <td>64.00</td>\n",
       "    </tr>\n",
       "    <tr>\n",
       "      <th>2580</th>\n",
       "      <td>5158</td>\n",
       "      <td>9279-1</td>\n",
       "      <td>Respiratory rate</td>\n",
       "      <td>Observation/5158</td>\n",
       "      <td>13.00</td>\n",
       "    </tr>\n",
       "    <tr>\n",
       "      <th>2581</th>\n",
       "      <td>5159</td>\n",
       "      <td>72166-2</td>\n",
       "      <td>Tobacco smoking status NHIS</td>\n",
       "      <td>Observation/5159</td>\n",
       "      <td>NaN</td>\n",
       "    </tr>\n",
       "  </tbody>\n",
       "</table>\n",
       "<p>2582 rows × 5 columns</p>\n",
       "</div>"
      ],
      "text/plain": [
       "        ID CodeCodingCode                                  CodeCodingDisplay  \\\n",
       "0       23         8302-2                                        Body Height   \n",
       "1       24        72514-3  Pain severity - 0-10 verbal numeric rating [Sc...   \n",
       "2       25        29463-7                                        Body Weight   \n",
       "3       26        39156-5                                    Body Mass Index   \n",
       "4       27        85354-9                                     Blood Pressure   \n",
       "...    ...            ...                                                ...   \n",
       "2577  5155        39156-5                                    Body Mass Index   \n",
       "2578  5156        85354-9                                     Blood Pressure   \n",
       "2579  5157         8867-4                                         Heart rate   \n",
       "2580  5158         9279-1                                   Respiratory rate   \n",
       "2581  5159        72166-2                        Tobacco smoking status NHIS   \n",
       "\n",
       "                   Key  ValueQuantityValue  \n",
       "0       Observation/23              154.20  \n",
       "1       Observation/24                3.00  \n",
       "2       Observation/25               66.00  \n",
       "3       Observation/26               27.76  \n",
       "4       Observation/27                 NaN  \n",
       "...                ...                 ...  \n",
       "2577  Observation/5155               27.68  \n",
       "2578  Observation/5156                 NaN  \n",
       "2579  Observation/5157               64.00  \n",
       "2580  Observation/5158               13.00  \n",
       "2581  Observation/5159                 NaN  \n",
       "\n",
       "[2582 rows x 5 columns]"
      ]
     },
     "execution_count": 2,
     "metadata": {},
     "output_type": "execute_result"
    }
   ],
   "source": [
    "data = pd.read_sql_query(\"SELECT * FROM demo.Observation\", connection)\n",
    "data"
   ]
  },
  {
   "cell_type": "markdown",
   "id": "3f2f4c38-a184-4109-bcf5-2710011ca108",
   "metadata": {
    "tags": []
   },
   "source": [
    "# Stats for BloodGlucose"
   ]
  },
  {
   "cell_type": "code",
   "execution_count": 3,
   "id": "3ea73829-3ce0-443d-83c5-2c9a9052821e",
   "metadata": {
    "tags": []
   },
   "outputs": [
    {
     "name": "stdout",
     "output_type": "stream",
     "text": [
      "Mean value:        111.20473684210526\n",
      "Standard deviation: 8.362012706860432\n",
      "Minimum values:     91.94\n",
      "Maximum values:     124.76\n",
      "25th percentile:    104.53\n",
      "Median:             110.94\n",
      "75th percentile:    117.74\n"
     ]
    }
   ],
   "source": [
    "values = np.array(data.loc[(data.CodeCodingCode == \"2339-0\")]['ValueQuantityValue'])\n",
    "\n",
    "print(\"Mean value:       \", values.mean())\n",
    "print(\"Standard deviation:\", values.std())\n",
    "print(\"Minimum values:    \", values.min())\n",
    "print(\"Maximum values:    \", values.max())\n",
    "\n",
    "print(\"25th percentile:   \", np.percentile(values, 25))\n",
    "print(\"Median:            \", np.median(values))\n",
    "print(\"75th percentile:   \", np.percentile(values, 75))"
   ]
  },
  {
   "cell_type": "markdown",
   "id": "3b452e06-d624-4a55-8779-4a62228a93cc",
   "metadata": {},
   "source": [
    "# BloodGlucose Distribution"
   ]
  },
  {
   "cell_type": "code",
   "execution_count": 4,
   "id": "33f78cf6-ed93-45be-bf1d-ccc8f7f9769f",
   "metadata": {
    "tags": []
   },
   "outputs": [
    {
     "data": {
      "image/png": "[encoded data removed]",
      "text/plain": [
       "<Figure size 640x480 with 1 Axes>"
      ]
     },
     "metadata": {},
     "output_type": "display_data"
    }
   ],
   "source": [
    "%matplotlib inline\n",
    "import matplotlib.pyplot as plt\n",
    "plt.hist(values)\n",
    "plt.title('Glucose Distribution')\n",
    "plt.xlabel('Glucose (mg/dL)')\n",
    "plt.ylabel('number');"
   ]
  }
 ],
 "metadata": {
  "kernelspec": {
   "display_name": "Python 3 (ipykernel)",
   "language": "python",
   "name": "python3"
  },
  "language_info": {
   "codemirror_mode": {
    "name": "ipython",
    "version": 3
   },
   "file_extension": ".py",
   "mimetype": "text/x-python",
   "name": "python",
   "nbconvert_exporter": "python",
   "pygments_lexer": "ipython3",
   "version": "3.10.10"
  }
 },
 "nbformat": 4,
 "nbformat_minor": 5
}
